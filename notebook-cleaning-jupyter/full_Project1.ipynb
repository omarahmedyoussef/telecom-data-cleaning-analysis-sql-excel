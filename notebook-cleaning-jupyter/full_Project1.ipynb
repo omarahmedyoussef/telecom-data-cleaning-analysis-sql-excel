{
 "cells": [
  {
   "cell_type": "code",
   "execution_count": 24,
   "id": "0b9ee4f6-26c2-4367-b0c6-b366c6885d8e",
   "metadata": {},
   "outputs": [],
   "source": [
    "import pandas as pd "
   ]
  },
  {
   "cell_type": "code",
   "execution_count": 54,
   "id": "fcfab4bc-abfe-47f3-8b2d-bd294ca6cc64",
   "metadata": {},
   "outputs": [],
   "source": [
    "\n",
    "#Main path \n",
    "base_path = \"/Users/mac/Downloads/\"\n",
    "\n",
    "# read dirty files\n",
    "payments = pd.read_csv(base_path + \"payments.csv\")\n",
    "customers = pd.read_csv(base_path + \"customers.csv\")\n",
    "subscriptions = pd.read_csv(base_path + \"subscriptions.csv\")\n",
    "complaints = pd.read_csv(base_path + \"complaints.csv\")\n",
    "call_logs = pd.read_csv(base_path + \"call_logs.csv\")\n"
   ]
  },
  {
   "cell_type": "code",
   "execution_count": 38,
   "id": "68b1ad8a-e8c8-4a9e-adfe-a03913eff56d",
   "metadata": {},
   "outputs": [],
   "source": [
    "# Relations\n",
    "# payments / customers (customer_id)\n",
    "# payments / subscriptions (subscription_id)\n",
    "# subscriptions / customers (customer_id)\n",
    "# complaints / customers (customer_id)\n",
    "# call_logs / customers (customer_id)\n",
    "# first we have to clean data"
   ]
  },
  {
   "cell_type": "code",
   "execution_count": 35,
   "id": "efa3a542-947d-4b0b-bae3-790376baf6ff",
   "metadata": {},
   "outputs": [
    {
     "data": {
      "text/plain": [
       "payment_id        0\n",
       "customer_id       0\n",
       "payment_date      0\n",
       "amount            0\n",
       "payment_method    0\n",
       "dtype: int64"
      ]
     },
     "execution_count": 35,
     "metadata": {},
     "output_type": "execute_result"
    }
   ],
   "source": [
    "payments.isnull().sum()"
   ]
  },
  {
   "cell_type": "code",
   "execution_count": 55,
   "id": "af75d00c-9775-4f8d-b2d7-bcecbf8e4fd6",
   "metadata": {},
   "outputs": [
    {
     "data": {
      "text/plain": [
       "call_id                      0\n",
       "customer_id                  0\n",
       "receiver_id                  0\n",
       "call_start_time              0\n",
       "call_duration_seconds    50160\n",
       "call_type                    0\n",
       "dropped_call             33396\n",
       "cell_tower_id                0\n",
       "dtype: int64"
      ]
     },
     "execution_count": 55,
     "metadata": {},
     "output_type": "execute_result"
    }
   ],
   "source": [
    "call_logs.isnull().sum()"
   ]
  },
  {
   "cell_type": "code",
   "execution_count": 41,
   "id": "28f3895e-f74a-4917-a2fb-99dcc6d2567b",
   "metadata": {},
   "outputs": [
    {
     "data": {
      "text/plain": [
       "customer_id        0\n",
       "full_name          0\n",
       "gender             0\n",
       "date_of_birth      0\n",
       "signup_date        0\n",
       "city               0\n",
       "national_id        0\n",
       "email            243\n",
       "dtype: int64"
      ]
     },
     "execution_count": 41,
     "metadata": {},
     "output_type": "execute_result"
    }
   ],
   "source": [
    "customers.isnull().sum()"
   ]
  },
  {
   "cell_type": "code",
   "execution_count": 44,
   "id": "42334fa9-4f42-419e-8e99-8b005f21e874",
   "metadata": {},
   "outputs": [
    {
     "data": {
      "text/plain": [
       "subscription_id    0\n",
       "customer_id        0\n",
       "plan_type          0\n",
       "start_date         0\n",
       "end_date           0\n",
       "monthly_cost       0\n",
       "dtype: int64"
      ]
     },
     "execution_count": 44,
     "metadata": {},
     "output_type": "execute_result"
    }
   ],
   "source": [
    "subscriptions.isnull().sum()"
   ]
  },
  {
   "cell_type": "code",
   "execution_count": 45,
   "id": "0aaf27e6-b632-448a-a57b-3b168f6e7e4b",
   "metadata": {},
   "outputs": [
    {
     "data": {
      "text/plain": [
       "complaint_id        0\n",
       "customer_id         0\n",
       "complaint_type      0\n",
       "description       275\n",
       "complaint_date      0\n",
       "resolved            0\n",
       "dtype: int64"
      ]
     },
     "execution_count": 45,
     "metadata": {},
     "output_type": "execute_result"
    }
   ],
   "source": [
    "complaints.isnull().sum()"
   ]
  },
  {
   "cell_type": "code",
   "execution_count": 47,
   "id": "4caf6427-2901-4708-b64a-c292ecada257",
   "metadata": {},
   "outputs": [],
   "source": [
    "# Now we’ll clean the call_logs table.\n",
    "# The column 'call_duration_seconds' has 50160 missing values, so we’ll fill them with 0.\n",
    "# Then, for the 'dropped_call' column (which has 33396 missing values):\n",
    "# if the call duration is more than 0, we’ll assume the call was not dropped and fill it with \"No\".\n",
    "# But if the duration is 0, we’ll fill it with \"Unknown\" because we can’t really tell.\n"
   ]
  },
  {
   "cell_type": "code",
   "execution_count": 57,
   "id": "1d6534bf-5d59-4312-b70d-93bdeb3414ae",
   "metadata": {},
   "outputs": [],
   "source": [
    "call_logs.loc[call_logs[\"call_duration_seconds\"].isnull() , \"call_duration_seconds\"] = 0\n",
    "call_logs.loc[(call_logs[\"call_duration_seconds\"]>0)&(call_logs[\"dropped_call\"].isnull()), \"dropped_call\"] = \"No\"\n",
    "call_logs.loc[(call_logs[\"call_duration_seconds\"] == 0 )&(call_logs[\"dropped_call\"].isnull()) , \"dropped_call\"] = \"Unknown\" "
   ]
  },
  {
   "cell_type": "code",
   "execution_count": 58,
   "id": "b8cdb8c6-6ba7-476e-848c-eb97ca206b80",
   "metadata": {},
   "outputs": [
    {
     "data": {
      "text/plain": [
       "call_id                  0\n",
       "customer_id              0\n",
       "receiver_id              0\n",
       "call_start_time          0\n",
       "call_duration_seconds    0\n",
       "call_type                0\n",
       "dropped_call             0\n",
       "cell_tower_id            0\n",
       "dtype: int64"
      ]
     },
     "execution_count": 58,
     "metadata": {},
     "output_type": "execute_result"
    }
   ],
   "source": [
    "call_logs.isnull().sum()"
   ]
  },
  {
   "cell_type": "code",
   "execution_count": 59,
   "id": "91faba40-af7b-4675-ab3e-324b335dde96",
   "metadata": {},
   "outputs": [
    {
     "data": {
      "text/html": [
       "<div>\n",
       "<style scoped>\n",
       "    .dataframe tbody tr th:only-of-type {\n",
       "        vertical-align: middle;\n",
       "    }\n",
       "\n",
       "    .dataframe tbody tr th {\n",
       "        vertical-align: top;\n",
       "    }\n",
       "\n",
       "    .dataframe thead th {\n",
       "        text-align: right;\n",
       "    }\n",
       "</style>\n",
       "<table border=\"1\" class=\"dataframe\">\n",
       "  <thead>\n",
       "    <tr style=\"text-align: right;\">\n",
       "      <th></th>\n",
       "      <th>call_id</th>\n",
       "      <th>customer_id</th>\n",
       "      <th>receiver_id</th>\n",
       "      <th>call_start_time</th>\n",
       "      <th>call_duration_seconds</th>\n",
       "      <th>call_type</th>\n",
       "      <th>dropped_call</th>\n",
       "      <th>cell_tower_id</th>\n",
       "    </tr>\n",
       "  </thead>\n",
       "  <tbody>\n",
       "    <tr>\n",
       "      <th>0</th>\n",
       "      <td>1</td>\n",
       "      <td>2040</td>\n",
       "      <td>2005</td>\n",
       "      <td>18/06/2025 19:53:34</td>\n",
       "      <td>303.0</td>\n",
       "      <td>international</td>\n",
       "      <td>yes</td>\n",
       "      <td>71</td>\n",
       "    </tr>\n",
       "    <tr>\n",
       "      <th>1</th>\n",
       "      <td>2</td>\n",
       "      <td>3291</td>\n",
       "      <td>3317</td>\n",
       "      <td>18/06/2025 19:55:44</td>\n",
       "      <td>2732.0</td>\n",
       "      <td>roaming</td>\n",
       "      <td>yes</td>\n",
       "      <td>29</td>\n",
       "    </tr>\n",
       "    <tr>\n",
       "      <th>2</th>\n",
       "      <td>3</td>\n",
       "      <td>1158</td>\n",
       "      <td>2711</td>\n",
       "      <td>18/06/2025 19:55:16</td>\n",
       "      <td>0.0</td>\n",
       "      <td>Lcl</td>\n",
       "      <td>Unknown</td>\n",
       "      <td>10</td>\n",
       "    </tr>\n",
       "    <tr>\n",
       "      <th>3</th>\n",
       "      <td>4</td>\n",
       "      <td>1260</td>\n",
       "      <td>1740</td>\n",
       "      <td>18/06/2025 19:57:14</td>\n",
       "      <td>0.0</td>\n",
       "      <td>Lcl</td>\n",
       "      <td>Unknown</td>\n",
       "      <td>27</td>\n",
       "    </tr>\n",
       "    <tr>\n",
       "      <th>4</th>\n",
       "      <td>5</td>\n",
       "      <td>4350</td>\n",
       "      <td>225</td>\n",
       "      <td>18/06/2025 19:57:40</td>\n",
       "      <td>1535.0</td>\n",
       "      <td>Lcl</td>\n",
       "      <td>No</td>\n",
       "      <td>74</td>\n",
       "    </tr>\n",
       "    <tr>\n",
       "      <th>5</th>\n",
       "      <td>6</td>\n",
       "      <td>135</td>\n",
       "      <td>4975</td>\n",
       "      <td>18/06/2025 19:57:08</td>\n",
       "      <td>0.0</td>\n",
       "      <td>roaming</td>\n",
       "      <td>no</td>\n",
       "      <td>76</td>\n",
       "    </tr>\n",
       "    <tr>\n",
       "      <th>6</th>\n",
       "      <td>7</td>\n",
       "      <td>999</td>\n",
       "      <td>1048</td>\n",
       "      <td>18/06/2025 19:53:05</td>\n",
       "      <td>0.0</td>\n",
       "      <td>roaming</td>\n",
       "      <td>yes</td>\n",
       "      <td>50</td>\n",
       "    </tr>\n",
       "    <tr>\n",
       "      <th>7</th>\n",
       "      <td>8</td>\n",
       "      <td>84</td>\n",
       "      <td>1374</td>\n",
       "      <td>18/06/2025 19:57:50</td>\n",
       "      <td>1029.0</td>\n",
       "      <td>intl</td>\n",
       "      <td>yes</td>\n",
       "      <td>99</td>\n",
       "    </tr>\n",
       "    <tr>\n",
       "      <th>8</th>\n",
       "      <td>9</td>\n",
       "      <td>2693</td>\n",
       "      <td>1240</td>\n",
       "      <td>18/06/2025 19:54:47</td>\n",
       "      <td>432.0</td>\n",
       "      <td>international</td>\n",
       "      <td>no</td>\n",
       "      <td>19</td>\n",
       "    </tr>\n",
       "    <tr>\n",
       "      <th>9</th>\n",
       "      <td>10</td>\n",
       "      <td>2813</td>\n",
       "      <td>3654</td>\n",
       "      <td>18/06/2025 19:55:52</td>\n",
       "      <td>0.0</td>\n",
       "      <td>local</td>\n",
       "      <td>Unknown</td>\n",
       "      <td>83</td>\n",
       "    </tr>\n",
       "  </tbody>\n",
       "</table>\n",
       "</div>"
      ],
      "text/plain": [
       "   call_id  customer_id  receiver_id      call_start_time  \\\n",
       "0        1         2040         2005  18/06/2025 19:53:34   \n",
       "1        2         3291         3317  18/06/2025 19:55:44   \n",
       "2        3         1158         2711  18/06/2025 19:55:16   \n",
       "3        4         1260         1740  18/06/2025 19:57:14   \n",
       "4        5         4350          225  18/06/2025 19:57:40   \n",
       "5        6          135         4975  18/06/2025 19:57:08   \n",
       "6        7          999         1048  18/06/2025 19:53:05   \n",
       "7        8           84         1374  18/06/2025 19:57:50   \n",
       "8        9         2693         1240  18/06/2025 19:54:47   \n",
       "9       10         2813         3654  18/06/2025 19:55:52   \n",
       "\n",
       "   call_duration_seconds      call_type dropped_call  cell_tower_id  \n",
       "0                  303.0  international          yes             71  \n",
       "1                 2732.0        roaming          yes             29  \n",
       "2                    0.0            Lcl      Unknown             10  \n",
       "3                    0.0            Lcl      Unknown             27  \n",
       "4                 1535.0            Lcl           No             74  \n",
       "5                    0.0        roaming           no             76  \n",
       "6                    0.0        roaming          yes             50  \n",
       "7                 1029.0           intl          yes             99  \n",
       "8                  432.0  international           no             19  \n",
       "9                    0.0          local      Unknown             83  "
      ]
     },
     "execution_count": 59,
     "metadata": {},
     "output_type": "execute_result"
    }
   ],
   "source": [
    "call_logs.head(10)"
   ]
  },
  {
   "cell_type": "code",
   "execution_count": 60,
   "id": "59e5e6b4-e7a7-4b5d-ae13-75d245edf327",
   "metadata": {},
   "outputs": [
    {
     "data": {
      "text/plain": [
       "payment_id        0\n",
       "customer_id       0\n",
       "payment_date      0\n",
       "amount            0\n",
       "payment_method    0\n",
       "dtype: int64"
      ]
     },
     "execution_count": 60,
     "metadata": {},
     "output_type": "execute_result"
    }
   ],
   "source": [
    "payments.isnull().sum() "
   ]
  },
  {
   "cell_type": "code",
   "execution_count": 61,
   "id": "3938c0f4-52b0-490d-be08-d605a6445392",
   "metadata": {},
   "outputs": [
    {
     "data": {
      "text/plain": [
       "customer_id        0\n",
       "full_name          0\n",
       "gender             0\n",
       "date_of_birth      0\n",
       "signup_date        0\n",
       "city               0\n",
       "national_id        0\n",
       "email            243\n",
       "dtype: int64"
      ]
     },
     "execution_count": 61,
     "metadata": {},
     "output_type": "execute_result"
    }
   ],
   "source": [
    "customers.isnull().sum() "
   ]
  },
  {
   "cell_type": "code",
   "execution_count": null,
   "id": "a60c19d6-e260-4efd-adb9-c5408b4f834b",
   "metadata": {},
   "outputs": [],
   "source": []
  },
  {
   "cell_type": "code",
   "execution_count": null,
   "id": "5712f6c2-fb6c-42e7-8512-f89213625113",
   "metadata": {},
   "outputs": [],
   "source": []
  },
  {
   "cell_type": "code",
   "execution_count": null,
   "id": "03c5f3d4-75a5-41d3-8deb-63e7e3942cd1",
   "metadata": {},
   "outputs": [],
   "source": []
  },
  {
   "cell_type": "code",
   "execution_count": null,
   "id": "fbe0062d-6c31-478a-b1eb-6bde44bccfe1",
   "metadata": {},
   "outputs": [],
   "source": [
    "#لقيت ان فيه ٢٤٣ قيمه مفقوده في الجدول و دا خلاني اوحد صيغه الايميلات المفقوده عشان كدا كدا هي مش اهم حاجه بالنسبه للتحليل"
   ]
  },
  {
   "cell_type": "code",
   "execution_count": null,
   "id": "b7f91bb6-bf51-4604-9412-0223b7ef9597",
   "metadata": {},
   "outputs": [],
   "source": []
  },
  {
   "cell_type": "code",
   "execution_count": 62,
   "id": "79bc118a-32e4-4533-929f-9a9624bfc9fd",
   "metadata": {},
   "outputs": [
    {
     "data": {
      "text/html": [
       "<div>\n",
       "<style scoped>\n",
       "    .dataframe tbody tr th:only-of-type {\n",
       "        vertical-align: middle;\n",
       "    }\n",
       "\n",
       "    .dataframe tbody tr th {\n",
       "        vertical-align: top;\n",
       "    }\n",
       "\n",
       "    .dataframe thead th {\n",
       "        text-align: right;\n",
       "    }\n",
       "</style>\n",
       "<table border=\"1\" class=\"dataframe\">\n",
       "  <thead>\n",
       "    <tr style=\"text-align: right;\">\n",
       "      <th></th>\n",
       "      <th>customer_id</th>\n",
       "      <th>full_name</th>\n",
       "      <th>gender</th>\n",
       "      <th>date_of_birth</th>\n",
       "      <th>signup_date</th>\n",
       "      <th>city</th>\n",
       "      <th>national_id</th>\n",
       "      <th>email</th>\n",
       "    </tr>\n",
       "  </thead>\n",
       "  <tbody>\n",
       "    <tr>\n",
       "      <th>0</th>\n",
       "      <td>1</td>\n",
       "      <td>Grant Young</td>\n",
       "      <td>male</td>\n",
       "      <td>1956/05/19</td>\n",
       "      <td>2023-11-09</td>\n",
       "      <td>North Jasonfort</td>\n",
       "      <td>28815977234603</td>\n",
       "      <td>kristina60@mitchell.com</td>\n",
       "    </tr>\n",
       "    <tr>\n",
       "      <th>1</th>\n",
       "      <td>2</td>\n",
       "      <td>Dale Williams</td>\n",
       "      <td>أنثى</td>\n",
       "      <td>1954/09/16</td>\n",
       "      <td>2023-05-19</td>\n",
       "      <td>Stacyview</td>\n",
       "      <td>80406854292957</td>\n",
       "      <td>tuckerblake@frye.com</td>\n",
       "    </tr>\n",
       "    <tr>\n",
       "      <th>2</th>\n",
       "      <td>3</td>\n",
       "      <td>Michael Young PhD</td>\n",
       "      <td>female</td>\n",
       "      <td>1937/09/25</td>\n",
       "      <td>2024-11-07</td>\n",
       "      <td>Krauseside</td>\n",
       "      <td>59724807277958</td>\n",
       "      <td>oray@conley-robinson.com</td>\n",
       "    </tr>\n",
       "    <tr>\n",
       "      <th>3</th>\n",
       "      <td>4</td>\n",
       "      <td>Jason Randolph</td>\n",
       "      <td>M</td>\n",
       "      <td>1958/05/30</td>\n",
       "      <td>2022-02-06</td>\n",
       "      <td>Haleport</td>\n",
       "      <td>72897545381703</td>\n",
       "      <td>williamssarah@black.com</td>\n",
       "    </tr>\n",
       "    <tr>\n",
       "      <th>4</th>\n",
       "      <td>5</td>\n",
       "      <td>Larry Trevino</td>\n",
       "      <td>M</td>\n",
       "      <td>2004/12/16</td>\n",
       "      <td>2024-01-11</td>\n",
       "      <td>South Cassandramouth</td>\n",
       "      <td>97262704628538</td>\n",
       "      <td>kevin47@gmail.com</td>\n",
       "    </tr>\n",
       "  </tbody>\n",
       "</table>\n",
       "</div>"
      ],
      "text/plain": [
       "   customer_id          full_name  gender date_of_birth signup_date  \\\n",
       "0            1        Grant Young    male    1956/05/19  2023-11-09   \n",
       "1            2      Dale Williams    أنثى    1954/09/16  2023-05-19   \n",
       "2            3  Michael Young PhD  female    1937/09/25  2024-11-07   \n",
       "3            4     Jason Randolph       M    1958/05/30  2022-02-06   \n",
       "4            5      Larry Trevino       M    2004/12/16  2024-01-11   \n",
       "\n",
       "                   city     national_id                     email  \n",
       "0       North Jasonfort  28815977234603   kristina60@mitchell.com  \n",
       "1             Stacyview  80406854292957      tuckerblake@frye.com  \n",
       "2            Krauseside  59724807277958  oray@conley-robinson.com  \n",
       "3              Haleport  72897545381703   williamssarah@black.com  \n",
       "4  South Cassandramouth  97262704628538         kevin47@gmail.com  "
      ]
     },
     "execution_count": 62,
     "metadata": {},
     "output_type": "execute_result"
    }
   ],
   "source": [
    "customers.head(5)"
   ]
  },
  {
   "cell_type": "code",
   "execution_count": 66,
   "id": "ece4cb12-08c9-49bf-bc53-456667a4b188",
   "metadata": {},
   "outputs": [
    {
     "data": {
      "text/plain": [
       "array(['male', 'أنثى', 'female', 'M', 'F', 'ذكر'], dtype=object)"
      ]
     },
     "execution_count": 66,
     "metadata": {},
     "output_type": "execute_result"
    }
   ],
   "source": [
    "customers[\"gender\"].unique()   "
   ]
  },
  {
   "cell_type": "code",
   "execution_count": 71,
   "id": "1c6598b6-9bb9-4bd3-93e2-cd8d8c2adaff",
   "metadata": {},
   "outputs": [],
   "source": [
    "#make formating in gender (Male / Female) only\n",
    "customers[\"gender\"]=customers[\"gender\"].replace({\n",
    "\"male\" : \"Male\" , \n",
    "    \"M\" : \"Male\" , \n",
    "    \"ذكر\" : \"Male\" , \n",
    "    \"female\" : \"Female\" , \n",
    "    \"F\" : \"Female\" , \n",
    "    \"أنثى\" : \"Female\"\n",
    "})"
   ]
  },
  {
   "cell_type": "code",
   "execution_count": 72,
   "id": "10355b51-2b73-474e-844c-1d7846024b96",
   "metadata": {},
   "outputs": [
    {
     "data": {
      "text/plain": [
       "array(['Male', 'Female'], dtype=object)"
      ]
     },
     "execution_count": 72,
     "metadata": {},
     "output_type": "execute_result"
    }
   ],
   "source": [
    "customers[\"gender\"].unique() "
   ]
  },
  {
   "cell_type": "code",
   "execution_count": 80,
   "id": "e41aba2b-874c-45f2-912d-20b6ea8569db",
   "metadata": {},
   "outputs": [
    {
     "name": "stdout",
     "output_type": "stream",
     "text": [
      "4283\n"
     ]
    }
   ],
   "source": [
    "cities = customers[\"city\"].nunique() \n",
    "print(cities)  "
   ]
  },
  {
   "cell_type": "code",
   "execution_count": 81,
   "id": "bbae8c39-7882-4b94-87a4-bf813bab0d29",
   "metadata": {},
   "outputs": [
    {
     "data": {
      "text/plain": [
       "0"
      ]
     },
     "execution_count": 81,
     "metadata": {},
     "output_type": "execute_result"
    }
   ],
   "source": [
    "customers.duplicated().sum()"
   ]
  },
  {
   "cell_type": "code",
   "execution_count": 82,
   "id": "41a514d7-547a-43f6-a017-8b1faaee28b9",
   "metadata": {},
   "outputs": [
    {
     "data": {
      "text/plain": [
       "0"
      ]
     },
     "execution_count": 82,
     "metadata": {},
     "output_type": "execute_result"
    }
   ],
   "source": [
    "call_logs.duplicated().sum()"
   ]
  },
  {
   "cell_type": "code",
   "execution_count": 83,
   "id": "9803f241-2dfa-4097-91f8-1e237602de92",
   "metadata": {},
   "outputs": [
    {
     "data": {
      "text/plain": [
       "0"
      ]
     },
     "execution_count": 83,
     "metadata": {},
     "output_type": "execute_result"
    }
   ],
   "source": [
    "payments.duplicated().sum()"
   ]
  },
  {
   "cell_type": "code",
   "execution_count": null,
   "id": "4d970b50-7db3-4178-8944-acb86cbd226a",
   "metadata": {},
   "outputs": [],
   "source": []
  },
  {
   "cell_type": "code",
   "execution_count": 84,
   "id": "cbff0dd8-bc4e-4480-88d7-6ead4f44e9ef",
   "metadata": {},
   "outputs": [],
   "source": [
    "customers.loc[customers[\"email\"].isnull(),\"email\"]=\"null@email.com\"  #put email\"]=\"null@email.com in any NaN value of email"
   ]
  },
  {
   "cell_type": "code",
   "execution_count": 85,
   "id": "454df7d9-9779-466f-b187-c88e574c61ee",
   "metadata": {},
   "outputs": [
    {
     "data": {
      "text/plain": [
       "customer_id      0\n",
       "full_name        0\n",
       "gender           0\n",
       "date_of_birth    0\n",
       "signup_date      0\n",
       "city             0\n",
       "national_id      0\n",
       "email            0\n",
       "dtype: int64"
      ]
     },
     "execution_count": 85,
     "metadata": {},
     "output_type": "execute_result"
    }
   ],
   "source": [
    "customers.isnull().sum()"
   ]
  },
  {
   "cell_type": "code",
   "execution_count": 86,
   "id": "46c6cc57-a441-4f67-a620-529834d1fff7",
   "metadata": {},
   "outputs": [
    {
     "data": {
      "text/html": [
       "<div>\n",
       "<style scoped>\n",
       "    .dataframe tbody tr th:only-of-type {\n",
       "        vertical-align: middle;\n",
       "    }\n",
       "\n",
       "    .dataframe tbody tr th {\n",
       "        vertical-align: top;\n",
       "    }\n",
       "\n",
       "    .dataframe thead th {\n",
       "        text-align: right;\n",
       "    }\n",
       "</style>\n",
       "<table border=\"1\" class=\"dataframe\">\n",
       "  <thead>\n",
       "    <tr style=\"text-align: right;\">\n",
       "      <th></th>\n",
       "      <th>customer_id</th>\n",
       "      <th>full_name</th>\n",
       "      <th>gender</th>\n",
       "      <th>date_of_birth</th>\n",
       "      <th>signup_date</th>\n",
       "      <th>city</th>\n",
       "      <th>national_id</th>\n",
       "      <th>email</th>\n",
       "    </tr>\n",
       "  </thead>\n",
       "  <tbody>\n",
       "    <tr>\n",
       "      <th>0</th>\n",
       "      <td>1</td>\n",
       "      <td>Grant Young</td>\n",
       "      <td>Male</td>\n",
       "      <td>1956/05/19</td>\n",
       "      <td>2023-11-09</td>\n",
       "      <td>North Jasonfort</td>\n",
       "      <td>28815977234603</td>\n",
       "      <td>kristina60@mitchell.com</td>\n",
       "    </tr>\n",
       "    <tr>\n",
       "      <th>1</th>\n",
       "      <td>2</td>\n",
       "      <td>Dale Williams</td>\n",
       "      <td>Female</td>\n",
       "      <td>1954/09/16</td>\n",
       "      <td>2023-05-19</td>\n",
       "      <td>Stacyview</td>\n",
       "      <td>80406854292957</td>\n",
       "      <td>tuckerblake@frye.com</td>\n",
       "    </tr>\n",
       "    <tr>\n",
       "      <th>2</th>\n",
       "      <td>3</td>\n",
       "      <td>Michael Young PhD</td>\n",
       "      <td>Female</td>\n",
       "      <td>1937/09/25</td>\n",
       "      <td>2024-11-07</td>\n",
       "      <td>Krauseside</td>\n",
       "      <td>59724807277958</td>\n",
       "      <td>oray@conley-robinson.com</td>\n",
       "    </tr>\n",
       "    <tr>\n",
       "      <th>3</th>\n",
       "      <td>4</td>\n",
       "      <td>Jason Randolph</td>\n",
       "      <td>Male</td>\n",
       "      <td>1958/05/30</td>\n",
       "      <td>2022-02-06</td>\n",
       "      <td>Haleport</td>\n",
       "      <td>72897545381703</td>\n",
       "      <td>williamssarah@black.com</td>\n",
       "    </tr>\n",
       "    <tr>\n",
       "      <th>4</th>\n",
       "      <td>5</td>\n",
       "      <td>Larry Trevino</td>\n",
       "      <td>Male</td>\n",
       "      <td>2004/12/16</td>\n",
       "      <td>2024-01-11</td>\n",
       "      <td>South Cassandramouth</td>\n",
       "      <td>97262704628538</td>\n",
       "      <td>kevin47@gmail.com</td>\n",
       "    </tr>\n",
       "    <tr>\n",
       "      <th>5</th>\n",
       "      <td>6</td>\n",
       "      <td>Natasha Garner</td>\n",
       "      <td>Male</td>\n",
       "      <td>2002/06/20</td>\n",
       "      <td>2021-02-01</td>\n",
       "      <td>North Sabrinastad</td>\n",
       "      <td>96942973511095</td>\n",
       "      <td>ryancoleman@yahoo.com</td>\n",
       "    </tr>\n",
       "    <tr>\n",
       "      <th>6</th>\n",
       "      <td>7</td>\n",
       "      <td>Robin House</td>\n",
       "      <td>Female</td>\n",
       "      <td>1945/02/11</td>\n",
       "      <td>2024-07-11</td>\n",
       "      <td>West Miguelshire</td>\n",
       "      <td>44758156637730</td>\n",
       "      <td>melissa61@gmail.com</td>\n",
       "    </tr>\n",
       "    <tr>\n",
       "      <th>7</th>\n",
       "      <td>8</td>\n",
       "      <td>Jennifer Mccarthy</td>\n",
       "      <td>Male</td>\n",
       "      <td>1966/07/08</td>\n",
       "      <td>2020-12-27</td>\n",
       "      <td>Cannonborough</td>\n",
       "      <td>79562928444556</td>\n",
       "      <td>iparker@hotmail.com</td>\n",
       "    </tr>\n",
       "    <tr>\n",
       "      <th>8</th>\n",
       "      <td>9</td>\n",
       "      <td>Kenneth Peterson</td>\n",
       "      <td>Female</td>\n",
       "      <td>1989/09/13</td>\n",
       "      <td>2021-04-28</td>\n",
       "      <td>North Mark</td>\n",
       "      <td>17500963237061</td>\n",
       "      <td>powerslisa@yahoo.com</td>\n",
       "    </tr>\n",
       "    <tr>\n",
       "      <th>9</th>\n",
       "      <td>10</td>\n",
       "      <td>Austin Sanders</td>\n",
       "      <td>Male</td>\n",
       "      <td>1973/12/10</td>\n",
       "      <td>2020-08-14</td>\n",
       "      <td>Lake Jonathantown</td>\n",
       "      <td>34117153773332</td>\n",
       "      <td>laurabaker@hotmail.com</td>\n",
       "    </tr>\n",
       "  </tbody>\n",
       "</table>\n",
       "</div>"
      ],
      "text/plain": [
       "   customer_id          full_name  gender date_of_birth signup_date  \\\n",
       "0            1        Grant Young    Male    1956/05/19  2023-11-09   \n",
       "1            2      Dale Williams  Female    1954/09/16  2023-05-19   \n",
       "2            3  Michael Young PhD  Female    1937/09/25  2024-11-07   \n",
       "3            4     Jason Randolph    Male    1958/05/30  2022-02-06   \n",
       "4            5      Larry Trevino    Male    2004/12/16  2024-01-11   \n",
       "5            6     Natasha Garner    Male    2002/06/20  2021-02-01   \n",
       "6            7        Robin House  Female    1945/02/11  2024-07-11   \n",
       "7            8  Jennifer Mccarthy    Male    1966/07/08  2020-12-27   \n",
       "8            9   Kenneth Peterson  Female    1989/09/13  2021-04-28   \n",
       "9           10     Austin Sanders    Male    1973/12/10  2020-08-14   \n",
       "\n",
       "                   city     national_id                     email  \n",
       "0       North Jasonfort  28815977234603   kristina60@mitchell.com  \n",
       "1             Stacyview  80406854292957      tuckerblake@frye.com  \n",
       "2            Krauseside  59724807277958  oray@conley-robinson.com  \n",
       "3              Haleport  72897545381703   williamssarah@black.com  \n",
       "4  South Cassandramouth  97262704628538         kevin47@gmail.com  \n",
       "5     North Sabrinastad  96942973511095     ryancoleman@yahoo.com  \n",
       "6      West Miguelshire  44758156637730       melissa61@gmail.com  \n",
       "7         Cannonborough  79562928444556       iparker@hotmail.com  \n",
       "8            North Mark  17500963237061      powerslisa@yahoo.com  \n",
       "9     Lake Jonathantown  34117153773332    laurabaker@hotmail.com  "
      ]
     },
     "execution_count": 86,
     "metadata": {},
     "output_type": "execute_result"
    }
   ],
   "source": [
    "customers.head(10) "
   ]
  },
  {
   "cell_type": "code",
   "execution_count": 87,
   "id": "7ff21158-4bdb-4928-a492-da5c11d86ba0",
   "metadata": {},
   "outputs": [],
   "source": [
    "customers[\"date_of_birth\"] = pd.to_datetime(customers[\"date_of_birth\"]) #convert date_of_birth into date formationg"
   ]
  },
  {
   "cell_type": "code",
   "execution_count": null,
   "id": "aaaa866f-e71b-4fef-9af1-2da9b42f7244",
   "metadata": {},
   "outputs": [],
   "source": [
    "customers[\"signup_date\"] = pd.to_datetime(customers[\"signup_date\"])#convert signup_date into date formationg"
   ]
  },
  {
   "cell_type": "code",
   "execution_count": 90,
   "id": "082f8e29-e415-4ea6-8544-7d4d79dfad7d",
   "metadata": {},
   "outputs": [],
   "source": [
    "customers[\"city\"] = customers[\"city\"].str.strip().str.title()"
   ]
  },
  {
   "cell_type": "code",
   "execution_count": 91,
   "id": "63d7552e-fc24-4898-a3d7-0112b3b41ed4",
   "metadata": {},
   "outputs": [
    {
     "data": {
      "text/html": [
       "<div>\n",
       "<style scoped>\n",
       "    .dataframe tbody tr th:only-of-type {\n",
       "        vertical-align: middle;\n",
       "    }\n",
       "\n",
       "    .dataframe tbody tr th {\n",
       "        vertical-align: top;\n",
       "    }\n",
       "\n",
       "    .dataframe thead th {\n",
       "        text-align: right;\n",
       "    }\n",
       "</style>\n",
       "<table border=\"1\" class=\"dataframe\">\n",
       "  <thead>\n",
       "    <tr style=\"text-align: right;\">\n",
       "      <th></th>\n",
       "      <th>call_id</th>\n",
       "      <th>customer_id</th>\n",
       "      <th>receiver_id</th>\n",
       "      <th>call_start_time</th>\n",
       "      <th>call_duration_seconds</th>\n",
       "      <th>call_type</th>\n",
       "      <th>dropped_call</th>\n",
       "      <th>cell_tower_id</th>\n",
       "    </tr>\n",
       "  </thead>\n",
       "  <tbody>\n",
       "    <tr>\n",
       "      <th>0</th>\n",
       "      <td>1</td>\n",
       "      <td>2040</td>\n",
       "      <td>2005</td>\n",
       "      <td>18/06/2025 19:53:34</td>\n",
       "      <td>303.0</td>\n",
       "      <td>international</td>\n",
       "      <td>yes</td>\n",
       "      <td>71</td>\n",
       "    </tr>\n",
       "    <tr>\n",
       "      <th>1</th>\n",
       "      <td>2</td>\n",
       "      <td>3291</td>\n",
       "      <td>3317</td>\n",
       "      <td>18/06/2025 19:55:44</td>\n",
       "      <td>2732.0</td>\n",
       "      <td>roaming</td>\n",
       "      <td>yes</td>\n",
       "      <td>29</td>\n",
       "    </tr>\n",
       "    <tr>\n",
       "      <th>2</th>\n",
       "      <td>3</td>\n",
       "      <td>1158</td>\n",
       "      <td>2711</td>\n",
       "      <td>18/06/2025 19:55:16</td>\n",
       "      <td>0.0</td>\n",
       "      <td>Lcl</td>\n",
       "      <td>Unknown</td>\n",
       "      <td>10</td>\n",
       "    </tr>\n",
       "    <tr>\n",
       "      <th>3</th>\n",
       "      <td>4</td>\n",
       "      <td>1260</td>\n",
       "      <td>1740</td>\n",
       "      <td>18/06/2025 19:57:14</td>\n",
       "      <td>0.0</td>\n",
       "      <td>Lcl</td>\n",
       "      <td>Unknown</td>\n",
       "      <td>27</td>\n",
       "    </tr>\n",
       "    <tr>\n",
       "      <th>4</th>\n",
       "      <td>5</td>\n",
       "      <td>4350</td>\n",
       "      <td>225</td>\n",
       "      <td>18/06/2025 19:57:40</td>\n",
       "      <td>1535.0</td>\n",
       "      <td>Lcl</td>\n",
       "      <td>No</td>\n",
       "      <td>74</td>\n",
       "    </tr>\n",
       "    <tr>\n",
       "      <th>5</th>\n",
       "      <td>6</td>\n",
       "      <td>135</td>\n",
       "      <td>4975</td>\n",
       "      <td>18/06/2025 19:57:08</td>\n",
       "      <td>0.0</td>\n",
       "      <td>roaming</td>\n",
       "      <td>no</td>\n",
       "      <td>76</td>\n",
       "    </tr>\n",
       "    <tr>\n",
       "      <th>6</th>\n",
       "      <td>7</td>\n",
       "      <td>999</td>\n",
       "      <td>1048</td>\n",
       "      <td>18/06/2025 19:53:05</td>\n",
       "      <td>0.0</td>\n",
       "      <td>roaming</td>\n",
       "      <td>yes</td>\n",
       "      <td>50</td>\n",
       "    </tr>\n",
       "    <tr>\n",
       "      <th>7</th>\n",
       "      <td>8</td>\n",
       "      <td>84</td>\n",
       "      <td>1374</td>\n",
       "      <td>18/06/2025 19:57:50</td>\n",
       "      <td>1029.0</td>\n",
       "      <td>intl</td>\n",
       "      <td>yes</td>\n",
       "      <td>99</td>\n",
       "    </tr>\n",
       "    <tr>\n",
       "      <th>8</th>\n",
       "      <td>9</td>\n",
       "      <td>2693</td>\n",
       "      <td>1240</td>\n",
       "      <td>18/06/2025 19:54:47</td>\n",
       "      <td>432.0</td>\n",
       "      <td>international</td>\n",
       "      <td>no</td>\n",
       "      <td>19</td>\n",
       "    </tr>\n",
       "    <tr>\n",
       "      <th>9</th>\n",
       "      <td>10</td>\n",
       "      <td>2813</td>\n",
       "      <td>3654</td>\n",
       "      <td>18/06/2025 19:55:52</td>\n",
       "      <td>0.0</td>\n",
       "      <td>local</td>\n",
       "      <td>Unknown</td>\n",
       "      <td>83</td>\n",
       "    </tr>\n",
       "  </tbody>\n",
       "</table>\n",
       "</div>"
      ],
      "text/plain": [
       "   call_id  customer_id  receiver_id      call_start_time  \\\n",
       "0        1         2040         2005  18/06/2025 19:53:34   \n",
       "1        2         3291         3317  18/06/2025 19:55:44   \n",
       "2        3         1158         2711  18/06/2025 19:55:16   \n",
       "3        4         1260         1740  18/06/2025 19:57:14   \n",
       "4        5         4350          225  18/06/2025 19:57:40   \n",
       "5        6          135         4975  18/06/2025 19:57:08   \n",
       "6        7          999         1048  18/06/2025 19:53:05   \n",
       "7        8           84         1374  18/06/2025 19:57:50   \n",
       "8        9         2693         1240  18/06/2025 19:54:47   \n",
       "9       10         2813         3654  18/06/2025 19:55:52   \n",
       "\n",
       "   call_duration_seconds      call_type dropped_call  cell_tower_id  \n",
       "0                  303.0  international          yes             71  \n",
       "1                 2732.0        roaming          yes             29  \n",
       "2                    0.0            Lcl      Unknown             10  \n",
       "3                    0.0            Lcl      Unknown             27  \n",
       "4                 1535.0            Lcl           No             74  \n",
       "5                    0.0        roaming           no             76  \n",
       "6                    0.0        roaming          yes             50  \n",
       "7                 1029.0           intl          yes             99  \n",
       "8                  432.0  international           no             19  \n",
       "9                    0.0          local      Unknown             83  "
      ]
     },
     "execution_count": 91,
     "metadata": {},
     "output_type": "execute_result"
    }
   ],
   "source": [
    "call_logs.head(10)"
   ]
  },
  {
   "cell_type": "code",
   "execution_count": 94,
   "id": "ac288b92-a0c5-41a4-bcbb-ec5c73aa304a",
   "metadata": {},
   "outputs": [],
   "source": [
    "#convert call_start_time into date formating\n",
    "call_logs['call_start_time'] = pd.to_datetime(call_logs['call_start_time'], format=\"%d/%m/%Y %H:%M:%S\", errors='coerce')\n",
    "#convert \"no\" to \"No\" & \"yes\" to \"Yes\"\n",
    "call_logs[\"dropped_call\"]=call_logs[\"dropped_call\"].replace({\n",
    "    \"no\" : \"No\" , \n",
    "    \"yes\" : \"Yes\"\n",
    "})  \n"
   ]
  },
  {
   "cell_type": "code",
   "execution_count": 95,
   "id": "aa7d6323-acf2-4728-a62a-905886eef131",
   "metadata": {},
   "outputs": [
    {
     "data": {
      "text/plain": [
       "array(['international', 'roaming', 'Lcl', 'intl', 'local', 'Locall'],\n",
       "      dtype=object)"
      ]
     },
     "execution_count": 95,
     "metadata": {},
     "output_type": "execute_result"
    }
   ],
   "source": [
    "call_logs[\"call_type\"].unique()"
   ]
  },
  {
   "cell_type": "code",
   "execution_count": 96,
   "id": "9f61a6b2-9c67-4187-a3e2-0a67326325ee",
   "metadata": {},
   "outputs": [],
   "source": [
    "# make call_type (International / Local / Roaming) \n",
    "call_logs[\"call_type\"] = call_logs[\"call_type\"].replace({\n",
    "        \"international\" : \"International\" , \n",
    "    \"roaming\" : \"Roaming\" , \n",
    "    \"Lcl\" : \"Local\" , \n",
    "    \"intl\" : \"International\"  , \n",
    "    \"local\" : \"Local\" , \n",
    "    \"Locall\" : \"Local\" \n",
    "    \n",
    "})"
   ]
  },
  {
   "cell_type": "code",
   "execution_count": 97,
   "id": "da3b5778-39ab-401e-9371-34808133ceb7",
   "metadata": {},
   "outputs": [
    {
     "data": {
      "text/plain": [
       "array(['International', 'Roaming', 'Local'], dtype=object)"
      ]
     },
     "execution_count": 97,
     "metadata": {},
     "output_type": "execute_result"
    }
   ],
   "source": [
    "call_logs[\"call_type\"].unique()"
   ]
  },
  {
   "cell_type": "code",
   "execution_count": 98,
   "id": "06226467-5d31-4004-944b-ff1c791d5536",
   "metadata": {},
   "outputs": [
    {
     "data": {
      "text/html": [
       "<div>\n",
       "<style scoped>\n",
       "    .dataframe tbody tr th:only-of-type {\n",
       "        vertical-align: middle;\n",
       "    }\n",
       "\n",
       "    .dataframe tbody tr th {\n",
       "        vertical-align: top;\n",
       "    }\n",
       "\n",
       "    .dataframe thead th {\n",
       "        text-align: right;\n",
       "    }\n",
       "</style>\n",
       "<table border=\"1\" class=\"dataframe\">\n",
       "  <thead>\n",
       "    <tr style=\"text-align: right;\">\n",
       "      <th></th>\n",
       "      <th>subscription_id</th>\n",
       "      <th>customer_id</th>\n",
       "      <th>plan_type</th>\n",
       "      <th>start_date</th>\n",
       "      <th>end_date</th>\n",
       "      <th>monthly_cost</th>\n",
       "    </tr>\n",
       "  </thead>\n",
       "  <tbody>\n",
       "    <tr>\n",
       "      <th>0</th>\n",
       "      <td>1</td>\n",
       "      <td>4417</td>\n",
       "      <td>5G</td>\n",
       "      <td>2024-06-03</td>\n",
       "      <td>2025-04-22</td>\n",
       "      <td>297.12</td>\n",
       "    </tr>\n",
       "    <tr>\n",
       "      <th>1</th>\n",
       "      <td>2</td>\n",
       "      <td>292</td>\n",
       "      <td>Prepaid</td>\n",
       "      <td>2022-08-26</td>\n",
       "      <td>2023-04-20</td>\n",
       "      <td>290.03</td>\n",
       "    </tr>\n",
       "    <tr>\n",
       "      <th>2</th>\n",
       "      <td>3</td>\n",
       "      <td>1919</td>\n",
       "      <td>5G</td>\n",
       "      <td>2023-07-12</td>\n",
       "      <td>2024-01-26</td>\n",
       "      <td>202.03</td>\n",
       "    </tr>\n",
       "    <tr>\n",
       "      <th>3</th>\n",
       "      <td>4</td>\n",
       "      <td>773</td>\n",
       "      <td>Prepaid</td>\n",
       "      <td>2023-01-30</td>\n",
       "      <td>2024-01-26</td>\n",
       "      <td>293.18</td>\n",
       "    </tr>\n",
       "    <tr>\n",
       "      <th>4</th>\n",
       "      <td>5</td>\n",
       "      <td>3383</td>\n",
       "      <td>Postpaid</td>\n",
       "      <td>2023-07-11</td>\n",
       "      <td>2024-01-08</td>\n",
       "      <td>200.28</td>\n",
       "    </tr>\n",
       "    <tr>\n",
       "      <th>5</th>\n",
       "      <td>6</td>\n",
       "      <td>285</td>\n",
       "      <td>4G</td>\n",
       "      <td>2022-11-19</td>\n",
       "      <td>2023-04-14</td>\n",
       "      <td>52.65</td>\n",
       "    </tr>\n",
       "    <tr>\n",
       "      <th>6</th>\n",
       "      <td>7</td>\n",
       "      <td>3785</td>\n",
       "      <td>Prepaid</td>\n",
       "      <td>2022-10-09</td>\n",
       "      <td>2022-12-05</td>\n",
       "      <td>194.57</td>\n",
       "    </tr>\n",
       "    <tr>\n",
       "      <th>7</th>\n",
       "      <td>8</td>\n",
       "      <td>263</td>\n",
       "      <td>5G</td>\n",
       "      <td>2022-08-16</td>\n",
       "      <td>2022-12-27</td>\n",
       "      <td>60.93</td>\n",
       "    </tr>\n",
       "    <tr>\n",
       "      <th>8</th>\n",
       "      <td>9</td>\n",
       "      <td>4527</td>\n",
       "      <td>4G</td>\n",
       "      <td>2023-12-15</td>\n",
       "      <td>2024-12-10</td>\n",
       "      <td>54.72</td>\n",
       "    </tr>\n",
       "    <tr>\n",
       "      <th>9</th>\n",
       "      <td>10</td>\n",
       "      <td>4458</td>\n",
       "      <td>Prepaid</td>\n",
       "      <td>2023-01-01</td>\n",
       "      <td>2023-03-03</td>\n",
       "      <td>161.12</td>\n",
       "    </tr>\n",
       "  </tbody>\n",
       "</table>\n",
       "</div>"
      ],
      "text/plain": [
       "   subscription_id  customer_id plan_type  start_date    end_date  \\\n",
       "0                1         4417        5G  2024-06-03  2025-04-22   \n",
       "1                2          292   Prepaid  2022-08-26  2023-04-20   \n",
       "2                3         1919        5G  2023-07-12  2024-01-26   \n",
       "3                4          773   Prepaid  2023-01-30  2024-01-26   \n",
       "4                5         3383  Postpaid  2023-07-11  2024-01-08   \n",
       "5                6          285        4G  2022-11-19  2023-04-14   \n",
       "6                7         3785   Prepaid  2022-10-09  2022-12-05   \n",
       "7                8          263        5G  2022-08-16  2022-12-27   \n",
       "8                9         4527        4G  2023-12-15  2024-12-10   \n",
       "9               10         4458   Prepaid  2023-01-01  2023-03-03   \n",
       "\n",
       "   monthly_cost  \n",
       "0        297.12  \n",
       "1        290.03  \n",
       "2        202.03  \n",
       "3        293.18  \n",
       "4        200.28  \n",
       "5         52.65  \n",
       "6        194.57  \n",
       "7         60.93  \n",
       "8         54.72  \n",
       "9        161.12  "
      ]
     },
     "execution_count": 98,
     "metadata": {},
     "output_type": "execute_result"
    }
   ],
   "source": [
    "subscriptions.head(10)"
   ]
  },
  {
   "cell_type": "code",
   "execution_count": 100,
   "id": "af3ad7db-ab7f-4301-a94a-dfaf79d77725",
   "metadata": {},
   "outputs": [],
   "source": [
    "#convert both to date formating\n",
    "subscriptions[\"start_date\"] = pd.to_datetime(subscriptions[\"start_date\"])\n",
    "subscriptions[\"end_date\"] = pd.to_datetime(subscriptions[\"end_date\"]) "
   ]
  },
  {
   "cell_type": "code",
   "execution_count": 101,
   "id": "89664e80-fa00-41f6-adbb-004c9b24c9c5",
   "metadata": {},
   "outputs": [
    {
     "data": {
      "text/plain": [
       "array(['5G', 'Prepaid', 'Postpaid', '4G'], dtype=object)"
      ]
     },
     "execution_count": 101,
     "metadata": {},
     "output_type": "execute_result"
    }
   ],
   "source": [
    "subscriptions[\"plan_type\"].unique() "
   ]
  },
  {
   "cell_type": "code",
   "execution_count": 102,
   "id": "d3d3afdd-075a-49c9-87c9-49c3174e849c",
   "metadata": {},
   "outputs": [
    {
     "data": {
      "text/html": [
       "<div>\n",
       "<style scoped>\n",
       "    .dataframe tbody tr th:only-of-type {\n",
       "        vertical-align: middle;\n",
       "    }\n",
       "\n",
       "    .dataframe tbody tr th {\n",
       "        vertical-align: top;\n",
       "    }\n",
       "\n",
       "    .dataframe thead th {\n",
       "        text-align: right;\n",
       "    }\n",
       "</style>\n",
       "<table border=\"1\" class=\"dataframe\">\n",
       "  <thead>\n",
       "    <tr style=\"text-align: right;\">\n",
       "      <th></th>\n",
       "      <th>payment_id</th>\n",
       "      <th>customer_id</th>\n",
       "      <th>payment_date</th>\n",
       "      <th>amount</th>\n",
       "      <th>payment_method</th>\n",
       "    </tr>\n",
       "  </thead>\n",
       "  <tbody>\n",
       "    <tr>\n",
       "      <th>0</th>\n",
       "      <td>1</td>\n",
       "      <td>4868</td>\n",
       "      <td>2024-11-25</td>\n",
       "      <td>849.20</td>\n",
       "      <td>mobile</td>\n",
       "    </tr>\n",
       "    <tr>\n",
       "      <th>1</th>\n",
       "      <td>2</td>\n",
       "      <td>2738</td>\n",
       "      <td>2025-01-24</td>\n",
       "      <td>747.72</td>\n",
       "      <td>bank</td>\n",
       "    </tr>\n",
       "    <tr>\n",
       "      <th>2</th>\n",
       "      <td>3</td>\n",
       "      <td>1177</td>\n",
       "      <td>2023-07-16</td>\n",
       "      <td>456.99</td>\n",
       "      <td>card</td>\n",
       "    </tr>\n",
       "    <tr>\n",
       "      <th>3</th>\n",
       "      <td>4</td>\n",
       "      <td>3738</td>\n",
       "      <td>2024-04-15</td>\n",
       "      <td>827.72</td>\n",
       "      <td>bank</td>\n",
       "    </tr>\n",
       "    <tr>\n",
       "      <th>4</th>\n",
       "      <td>5</td>\n",
       "      <td>1510</td>\n",
       "      <td>2023-07-15</td>\n",
       "      <td>310.13</td>\n",
       "      <td>mobile</td>\n",
       "    </tr>\n",
       "    <tr>\n",
       "      <th>5</th>\n",
       "      <td>6</td>\n",
       "      <td>3069</td>\n",
       "      <td>2024-05-25</td>\n",
       "      <td>261.96</td>\n",
       "      <td>mobile</td>\n",
       "    </tr>\n",
       "    <tr>\n",
       "      <th>6</th>\n",
       "      <td>7</td>\n",
       "      <td>3711</td>\n",
       "      <td>2023-09-01</td>\n",
       "      <td>269.33</td>\n",
       "      <td>bank</td>\n",
       "    </tr>\n",
       "    <tr>\n",
       "      <th>7</th>\n",
       "      <td>8</td>\n",
       "      <td>433</td>\n",
       "      <td>2024-04-30</td>\n",
       "      <td>194.53</td>\n",
       "      <td>bank</td>\n",
       "    </tr>\n",
       "    <tr>\n",
       "      <th>8</th>\n",
       "      <td>9</td>\n",
       "      <td>1357</td>\n",
       "      <td>2023-11-29</td>\n",
       "      <td>521.37</td>\n",
       "      <td>mobile</td>\n",
       "    </tr>\n",
       "    <tr>\n",
       "      <th>9</th>\n",
       "      <td>10</td>\n",
       "      <td>4613</td>\n",
       "      <td>2024-05-19</td>\n",
       "      <td>60.08</td>\n",
       "      <td>card</td>\n",
       "    </tr>\n",
       "  </tbody>\n",
       "</table>\n",
       "</div>"
      ],
      "text/plain": [
       "   payment_id  customer_id payment_date  amount payment_method\n",
       "0           1         4868   2024-11-25  849.20         mobile\n",
       "1           2         2738   2025-01-24  747.72           bank\n",
       "2           3         1177   2023-07-16  456.99           card\n",
       "3           4         3738   2024-04-15  827.72           bank\n",
       "4           5         1510   2023-07-15  310.13         mobile\n",
       "5           6         3069   2024-05-25  261.96         mobile\n",
       "6           7         3711   2023-09-01  269.33           bank\n",
       "7           8          433   2024-04-30  194.53           bank\n",
       "8           9         1357   2023-11-29  521.37         mobile\n",
       "9          10         4613   2024-05-19   60.08           card"
      ]
     },
     "execution_count": 102,
     "metadata": {},
     "output_type": "execute_result"
    }
   ],
   "source": [
    "payments.head(10)"
   ]
  },
  {
   "cell_type": "code",
   "execution_count": 103,
   "id": "7936cf53-e99a-4a1f-bf76-4b656e491e7a",
   "metadata": {},
   "outputs": [],
   "source": [
    "payments[\"payment_date\"] = pd.to_datetime(payments[\"payment_date\"]) #convert payment_date to date instead of an object\n",
    "payments[\"payment_method\"] = payments[\"payment_method\"].str.strip().str.title() #improve formating  "
   ]
  },
  {
   "cell_type": "code",
   "execution_count": 104,
   "id": "ee38efb5-2d24-4442-9576-91507dce8990",
   "metadata": {},
   "outputs": [
    {
     "data": {
      "text/plain": [
       "array(['Mobile', 'Bank', 'Card', 'Cash'], dtype=object)"
      ]
     },
     "execution_count": 104,
     "metadata": {},
     "output_type": "execute_result"
    }
   ],
   "source": [
    "payments[\"payment_method\"].unique()\n"
   ]
  },
  {
   "cell_type": "code",
   "execution_count": 106,
   "id": "8bcbf069-6650-4b24-a1ad-6ad9b26e30c9",
   "metadata": {},
   "outputs": [
    {
     "data": {
      "text/html": [
       "<div>\n",
       "<style scoped>\n",
       "    .dataframe tbody tr th:only-of-type {\n",
       "        vertical-align: middle;\n",
       "    }\n",
       "\n",
       "    .dataframe tbody tr th {\n",
       "        vertical-align: top;\n",
       "    }\n",
       "\n",
       "    .dataframe thead th {\n",
       "        text-align: right;\n",
       "    }\n",
       "</style>\n",
       "<table border=\"1\" class=\"dataframe\">\n",
       "  <thead>\n",
       "    <tr style=\"text-align: right;\">\n",
       "      <th></th>\n",
       "      <th>complaint_id</th>\n",
       "      <th>customer_id</th>\n",
       "      <th>complaint_type</th>\n",
       "      <th>description</th>\n",
       "      <th>complaint_date</th>\n",
       "      <th>resolved</th>\n",
       "    </tr>\n",
       "  </thead>\n",
       "  <tbody>\n",
       "    <tr>\n",
       "      <th>0</th>\n",
       "      <td>1</td>\n",
       "      <td>991</td>\n",
       "      <td>billing</td>\n",
       "      <td>Future approach well hand similar.</td>\n",
       "      <td>2024-06-21</td>\n",
       "      <td>yes</td>\n",
       "    </tr>\n",
       "    <tr>\n",
       "      <th>1</th>\n",
       "      <td>2</td>\n",
       "      <td>4875</td>\n",
       "      <td>internet</td>\n",
       "      <td>Manager top idea cut order.</td>\n",
       "      <td>2024-07-22</td>\n",
       "      <td>unresolved</td>\n",
       "    </tr>\n",
       "    <tr>\n",
       "      <th>2</th>\n",
       "      <td>3</td>\n",
       "      <td>241</td>\n",
       "      <td>coverage</td>\n",
       "      <td>Later tough brother cell south produce real.</td>\n",
       "      <td>2025-04-24</td>\n",
       "      <td>no</td>\n",
       "    </tr>\n",
       "    <tr>\n",
       "      <th>3</th>\n",
       "      <td>4</td>\n",
       "      <td>4790</td>\n",
       "      <td>network</td>\n",
       "      <td>Toward whose far at.</td>\n",
       "      <td>2024-11-02</td>\n",
       "      <td>no</td>\n",
       "    </tr>\n",
       "    <tr>\n",
       "      <th>4</th>\n",
       "      <td>5</td>\n",
       "      <td>1371</td>\n",
       "      <td>network</td>\n",
       "      <td>How law month current return fall.</td>\n",
       "      <td>2024-10-13</td>\n",
       "      <td>resolved</td>\n",
       "    </tr>\n",
       "  </tbody>\n",
       "</table>\n",
       "</div>"
      ],
      "text/plain": [
       "   complaint_id  customer_id complaint_type  \\\n",
       "0             1          991        billing   \n",
       "1             2         4875       internet   \n",
       "2             3          241       coverage   \n",
       "3             4         4790        network   \n",
       "4             5         1371        network   \n",
       "\n",
       "                                    description complaint_date    resolved  \n",
       "0            Future approach well hand similar.     2024-06-21         yes  \n",
       "1                   Manager top idea cut order.     2024-07-22  unresolved  \n",
       "2  Later tough brother cell south produce real.     2025-04-24          no  \n",
       "3                          Toward whose far at.     2024-11-02          no  \n",
       "4            How law month current return fall.     2024-10-13    resolved  "
      ]
     },
     "execution_count": 106,
     "metadata": {},
     "output_type": "execute_result"
    }
   ],
   "source": [
    "complaints.head(5)"
   ]
  },
  {
   "cell_type": "code",
   "execution_count": 107,
   "id": "9139f68d-c599-4a93-b325-2b471e76363b",
   "metadata": {},
   "outputs": [],
   "source": [
    "complaints[\"complaint_date\"] = pd.to_datetime(complaints[\"complaint_date\"] , errors=\"coerce\") #convert complaint_date to date time "
   ]
  },
  {
   "cell_type": "code",
   "execution_count": 108,
   "id": "b88c0910-36a5-467e-909b-d57b26ecabaa",
   "metadata": {},
   "outputs": [
    {
     "data": {
      "text/plain": [
       "array(['yes', 'unresolved', 'no', 'resolved'], dtype=object)"
      ]
     },
     "execution_count": 108,
     "metadata": {},
     "output_type": "execute_result"
    }
   ],
   "source": [
    "complaints[\"resolved\"].unique()"
   ]
  },
  {
   "cell_type": "code",
   "execution_count": 109,
   "id": "70e91182-e7a4-4fb2-86cc-36ad576ab8ce",
   "metadata": {},
   "outputs": [],
   "source": [
    "#Standardize the 'resolved' column to 'Yes' and 'No' \n",
    "complaints[\"resolved\"] = complaints[\"resolved\"].replace({\n",
    "    \"yes\": \"Yes\",\n",
    "    \"resolved\": \"Yes\",\n",
    "    \"no\": \"No\",\n",
    "    \"unresolved\": \"No\"\n",
    "}) "
   ]
  },
  {
   "cell_type": "code",
   "execution_count": 110,
   "id": "1aacec20-8e99-4157-b204-74e0c1f319f5",
   "metadata": {},
   "outputs": [],
   "source": [
    "#Clean and format complaint_type values (strip + title case) \n",
    "complaints[\"complaint_type\"] = complaints[\"complaint_type\"].str.strip().str.title()\n",
    "#Fill missing values in the 'description' column \n",
    "complaints[\"description\"] = complaints[\"description\"].fillna(\"No Description\") "
   ]
  },
  {
   "cell_type": "code",
   "execution_count": 112,
   "id": "0c735b8a-dbfd-4945-9ab5-ab5da5eb383b",
   "metadata": {},
   "outputs": [
    {
     "name": "stdout",
     "output_type": "stream",
     "text": [
      "Collecting duckdb\n",
      "  Downloading duckdb-1.3.1-cp312-cp312-macosx_12_0_x86_64.whl.metadata (7.0 kB)\n",
      "Downloading duckdb-1.3.1-cp312-cp312-macosx_12_0_x86_64.whl (17.1 MB)\n",
      "\u001b[2K   \u001b[90m━━━━━━━━━━━━━━━━━━━━━━━━━━━━━━━━━━━━━━━━\u001b[0m \u001b[32m17.1/17.1 MB\u001b[0m \u001b[31m1.4 MB/s\u001b[0m eta \u001b[36m0:00:00\u001b[0m00:01\u001b[0m00:01\u001b[0m\n",
      "\u001b[?25hInstalling collected packages: duckdb\n",
      "Successfully installed duckdb-1.3.1\n"
     ]
    }
   ],
   "source": [
    "!pip install duckdb"
   ]
  },
  {
   "cell_type": "code",
   "execution_count": 125,
   "id": "75f2b26b-6506-469b-b561-afdd094de94c",
   "metadata": {},
   "outputs": [],
   "source": [
    "import duckdb"
   ]
  },
  {
   "cell_type": "code",
   "execution_count": 114,
   "id": "7f7d0747-97c5-41fb-b13a-99714ac1b9bd",
   "metadata": {},
   "outputs": [
    {
     "data": {
      "text/plain": [
       "<duckdb.duckdb.DuckDBPyConnection at 0x1329bc1b0>"
      ]
     },
     "execution_count": 114,
     "metadata": {},
     "output_type": "execute_result"
    }
   ],
   "source": [
    "duckdb.register('customers', customers)\n",
    "duckdb.register('payments', payments)\n",
    "duckdb.register('subscriptions', subscriptions)\n",
    "duckdb.register('complaints', complaints)\n",
    "duckdb.register('call_logs', call_logs)"
   ]
  },
  {
   "cell_type": "code",
   "execution_count": 123,
   "id": "09edd5cc-e5e7-4577-97cc-020133c03500",
   "metadata": {},
   "outputs": [
    {
     "data": {
      "text/plain": [
       "Index(['customer_id', 'full_name', 'gender', 'date_of_birth', 'signup_date',\n",
       "       'city', 'national_id', 'email'],\n",
       "      dtype='object')"
      ]
     },
     "execution_count": 123,
     "metadata": {},
     "output_type": "execute_result"
    }
   ],
   "source": [
    "customers.columns"
   ]
  },
  {
   "cell_type": "code",
   "execution_count": 132,
   "id": "da89f028-c08d-45e7-9f74-44661f552ec5",
   "metadata": {},
   "outputs": [],
   "source": [
    " #Top 10 Cities by Number of Customers \n",
    "top_cities = duckdb.query(\"\"\"\n",
    "    select city, COUNT(customer_id) AS no_of_customers , dense_rank() OVER (order BY count(customer_id) DESC) AS rank\n",
    "    from customers\n",
    "    group BY city\n",
    "    order BY no_of_customers DESC\n",
    "    limit 10\n",
    "\"\"\").to_df()\n",
    "\n",
    "# save_result\n",
    "top_cities.to_csv(\"/Users/mac/Documents/analysis/top_10_cities_by_customers.csv\", index=False)\n",
    " "
   ]
  },
  {
   "cell_type": "code",
   "execution_count": 129,
   "id": "cd6b986f-b6e4-449d-8086-b129ec6ef4da",
   "metadata": {},
   "outputs": [],
   "source": [
    "#Total payment per plan \n",
    "total_rev_per_plan = duckdb.query(\"\"\"\n",
    "select s.plan_type , sum(p.amount) as total_rev \n",
    "from subscriptions as s join payments as p \n",
    "ON s.customer_id = p.customer_id\n",
    "group by s.plan_type \n",
    "order by total_rev desc\n",
    "\"\"\").to_df() \n",
    "# save_result\n",
    "total_rev_per_plan.to_csv(\"/Users/mac/Documents/analysis/total_revenue_per_plan.csv\", index=False)\n",
    " "
   ]
  },
  {
   "cell_type": "code",
   "execution_count": 131,
   "id": "080770b4-ac86-4ce3-96f9-cd1a5b197d58",
   "metadata": {},
   "outputs": [],
   "source": [
    "#Gender Count per Plan Type\n",
    "gender_counts_per_plan = duckdb.query(\"\"\"\n",
    "select \n",
    "    s.plan_type,\n",
    "    c.gender,\n",
    "    count(*) AS gender_count\n",
    "from subscriptions AS s\n",
    "join customers AS c ON s.customer_id = c.customer_id\n",
    "group BY s.plan_type, c.gender\n",
    "order BY s.plan_type, gender_count DESC\n",
    "\"\"\").to_df()\n",
    "gender_counts_per_plan.to_csv(\"/Users/mac/Documents/analysis/gender_counts_per_plan.csv\", index=False)\n"
   ]
  },
  {
   "cell_type": "code",
   "execution_count": 134,
   "id": "65695019-c20e-42af-ab95-0c7728ab9aa9",
   "metadata": {},
   "outputs": [],
   "source": [
    "top_complaints = duckdb.query(\"\"\"\n",
    "SELECT \n",
    "    complaint_type,\n",
    "    COUNT(*) AS num_complaints,\n",
    "    DENSE_RANK() OVER (ORDER BY COUNT(*) DESC) AS rank\n",
    "FROM complaints\n",
    "GROUP BY complaint_type\n",
    "ORDER BY num_complaints DESC\n",
    "\"\"\").to_df()\n",
    "\n",
    "top_complaints.to_csv(\"/Users/mac/Documents/analysis/Most_complaint_types.csv\", index=False)\n"
   ]
  },
  {
   "cell_type": "code",
   "execution_count": 135,
   "id": "ab71dddf-f152-491c-a048-84c56016c6f0",
   "metadata": {},
   "outputs": [],
   "source": [
    "#Total Payments by Payment Method \n",
    "payments_by_method = duckdb.query(\"\"\"\n",
    "SELECT \n",
    "    payment_method,\n",
    "    ROUND(SUM(amount), 2) AS total_revenue\n",
    "FROM payments\n",
    "GROUP BY payment_method\n",
    "ORDER BY total_revenue DESC\n",
    "\"\"\").to_df()\n",
    "\n",
    "payments_by_method.to_csv(\"/Users/mac/Documents/analysis/total_payments_by_method.csv\", index=False)\n"
   ]
  },
  {
   "cell_type": "code",
   "execution_count": 137,
   "id": "d5cac41e-92e8-4ad2-94c8-a8662b15b8f0",
   "metadata": {},
   "outputs": [],
   "source": [
    "#Top Paying Customers per Plan Type \n",
    "top_customers_per_plan = duckdb.query(\"\"\"\n",
    "WITH customer_totals AS (\n",
    "    SELECT \n",
    "        s.plan_type,\n",
    "        c.customer_id,\n",
    "        SUM(p.amount) AS total_paid\n",
    "    FROM subscriptions s\n",
    "    JOIN payments p ON s.customer_id = p.customer_id\n",
    "    JOIN customers c ON s.customer_id = c.customer_id\n",
    "    GROUP BY s.plan_type, c.customer_id\n",
    "),\n",
    "ranked_customers AS (\n",
    "    SELECT \n",
    "        plan_type,\n",
    "        customer_id,\n",
    "        total_paid,\n",
    "        RANK() OVER (PARTITION BY plan_type ORDER BY total_paid DESC) AS rank_in_plan\n",
    "    FROM customer_totals\n",
    ")\n",
    "SELECT *\n",
    "FROM ranked_customers\n",
    "WHERE rank_in_plan <= 3\n",
    "ORDER BY plan_type, rank_in_plan\n",
    "\"\"\").to_df()\n",
    "\n",
    "top_customers_per_plan.to_csv(\"/Users/mac/Documents/analysis/top_3_customers_per_plan.csv\", index=False)\n"
   ]
  },
  {
   "cell_type": "code",
   "execution_count": 138,
   "id": "d7156bb4-afe2-4809-8935-f3cf173b7384",
   "metadata": {},
   "outputs": [],
   "source": [
    "#Number of Customers per Plan Type  \n",
    "customers_per_plan = duckdb.query(\"\"\"\n",
    "SELECT \n",
    "    plan_type,\n",
    "    COUNT(DISTINCT customer_id) AS num_customers\n",
    "FROM subscriptions\n",
    "GROUP BY plan_type\n",
    "ORDER BY num_customers DESC\n",
    "\"\"\").to_df()\n",
    "\n",
    "customers_per_plan.to_csv(\"/Users/mac/Documents/analysis/customers_per_plan.csv\", index=False)\n"
   ]
  },
  {
   "cell_type": "code",
   "execution_count": 139,
   "id": "b0a6a66f-2916-435c-9914-5c68f64d6a01",
   "metadata": {},
   "outputs": [],
   "source": [
    "#Average Monthly Payment per Plan Type \n",
    "avg_payment_per_plan = duckdb.query(\"\"\"\n",
    "SELECT \n",
    "    plan_type,\n",
    "    ROUND(AVG(monthly_cost), 2) AS avg_monthly_payment\n",
    "FROM subscriptions\n",
    "GROUP BY plan_type\n",
    "ORDER BY avg_monthly_payment DESC\n",
    "\"\"\").to_df()\n",
    "\n",
    "avg_payment_per_plan.to_csv(\"/Users/mac/Documents/analysis/avg_monthly_payment_per_plan.csv\", index=False)\n"
   ]
  },
  {
   "cell_type": "code",
   "execution_count": null,
   "id": "4adbc4a1-0f9f-4e0a-ba44-ed34cba59a38",
   "metadata": {},
   "outputs": [],
   "source": []
  }
 ],
 "metadata": {
  "kernelspec": {
   "display_name": "Python [conda env:base] *",
   "language": "python",
   "name": "conda-base-py"
  },
  "language_info": {
   "codemirror_mode": {
    "name": "ipython",
    "version": 3
   },
   "file_extension": ".py",
   "mimetype": "text/x-python",
   "name": "python",
   "nbconvert_exporter": "python",
   "pygments_lexer": "ipython3",
   "version": "3.12.7"
  }
 },
 "nbformat": 4,
 "nbformat_minor": 5
}
